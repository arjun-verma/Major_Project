{
 "cells": [
  {
   "cell_type": "code",
   "execution_count": 10,
   "metadata": {},
   "outputs": [],
   "source": [
    "import pandas as pd"
   ]
  },
  {
   "cell_type": "code",
   "execution_count": 11,
   "metadata": {},
   "outputs": [
    {
     "name": "stderr",
     "output_type": "stream",
     "text": [
      "E:\\MiniConda\\lib\\site-packages\\openpyxl\\worksheet\\_reader.py:312: UserWarning: Unknown extension is not supported and will be removed\n",
      "  warn(msg)\n"
     ]
    }
   ],
   "source": [
    "df_salary = pd.read_excel('../datasets/Global Sport Finances.xlsx',sheet_name=\"Top Athlete Salaries\")"
   ]
  },
  {
   "cell_type": "code",
   "execution_count": 12,
   "metadata": {},
   "outputs": [
    {
     "name": "stderr",
     "output_type": "stream",
     "text": [
      "E:\\MiniConda\\lib\\site-packages\\openpyxl\\worksheet\\_reader.py:312: UserWarning: Unknown extension is not supported and will be removed\n",
      "  warn(msg)\n"
     ]
    }
   ],
   "source": [
    "df_teams = pd.read_excel('../datasets/Global Sport Finances.xlsx',sheet_name=\"Top teams Payroll List\")"
   ]
  },
  {
   "cell_type": "code",
   "execution_count": 13,
   "metadata": {},
   "outputs": [
    {
     "data": {
      "text/html": [
       "<div>\n",
       "<style scoped>\n",
       "    .dataframe tbody tr th:only-of-type {\n",
       "        vertical-align: middle;\n",
       "    }\n",
       "\n",
       "    .dataframe tbody tr th {\n",
       "        vertical-align: top;\n",
       "    }\n",
       "\n",
       "    .dataframe thead th {\n",
       "        text-align: right;\n",
       "    }\n",
       "</style>\n",
       "<table border=\"1\" class=\"dataframe\">\n",
       "  <thead>\n",
       "    <tr style=\"text-align: right;\">\n",
       "      <th></th>\n",
       "      <th>Athlete</th>\n",
       "      <th>2014 Pay</th>\n",
       "      <th>Salary/Winnings</th>\n",
       "      <th>Endorsements</th>\n",
       "      <th>Sport</th>\n",
       "    </tr>\n",
       "  </thead>\n",
       "  <tbody>\n",
       "    <tr>\n",
       "      <th>0</th>\n",
       "      <td>Floyd Mayweather</td>\n",
       "      <td>$105 M</td>\n",
       "      <td>$105 M</td>\n",
       "      <td>0</td>\n",
       "      <td>Boxing</td>\n",
       "    </tr>\n",
       "    <tr>\n",
       "      <th>1</th>\n",
       "      <td>Cristiano Ronaldo</td>\n",
       "      <td>$80 M</td>\n",
       "      <td>$52 M</td>\n",
       "      <td>$28 M</td>\n",
       "      <td>Soccer</td>\n",
       "    </tr>\n",
       "    <tr>\n",
       "      <th>2</th>\n",
       "      <td>LeBron James</td>\n",
       "      <td>$72.3 M</td>\n",
       "      <td>$19.3 M</td>\n",
       "      <td>$53 M</td>\n",
       "      <td>Basketball</td>\n",
       "    </tr>\n",
       "    <tr>\n",
       "      <th>3</th>\n",
       "      <td>Lionel Messi</td>\n",
       "      <td>$64.7 M</td>\n",
       "      <td>$41.7 M</td>\n",
       "      <td>$23 M</td>\n",
       "      <td>Soccer</td>\n",
       "    </tr>\n",
       "    <tr>\n",
       "      <th>4</th>\n",
       "      <td>Kobe Bryant</td>\n",
       "      <td>$61.5 M</td>\n",
       "      <td>$30.5 M</td>\n",
       "      <td>$31 M</td>\n",
       "      <td>Basketball</td>\n",
       "    </tr>\n",
       "    <tr>\n",
       "      <th>...</th>\n",
       "      <td>...</td>\n",
       "      <td>...</td>\n",
       "      <td>...</td>\n",
       "      <td>...</td>\n",
       "      <td>...</td>\n",
       "    </tr>\n",
       "    <tr>\n",
       "      <th>95</th>\n",
       "      <td>Terrell Suggs</td>\n",
       "      <td>$17.6 M</td>\n",
       "      <td>$17.4 M</td>\n",
       "      <td>$200 K</td>\n",
       "      <td>Football</td>\n",
       "    </tr>\n",
       "    <tr>\n",
       "      <th>96</th>\n",
       "      <td>Brandon Marshall</td>\n",
       "      <td>$17.5 M</td>\n",
       "      <td>$16.8 M</td>\n",
       "      <td>$0.7 M</td>\n",
       "      <td>Football</td>\n",
       "    </tr>\n",
       "    <tr>\n",
       "      <th>97</th>\n",
       "      <td>Jayson Werth</td>\n",
       "      <td>$17.5 M</td>\n",
       "      <td>$17.3 M</td>\n",
       "      <td>$200 K</td>\n",
       "      <td>Baseball</td>\n",
       "    </tr>\n",
       "    <tr>\n",
       "      <th>98</th>\n",
       "      <td>Matt Holliday</td>\n",
       "      <td>$17.4 M</td>\n",
       "      <td>$17.2 M</td>\n",
       "      <td>$200 K</td>\n",
       "      <td>Baseball</td>\n",
       "    </tr>\n",
       "    <tr>\n",
       "      <th>99</th>\n",
       "      <td>Luis Suarez</td>\n",
       "      <td>$17.3 M</td>\n",
       "      <td>$13.3 M</td>\n",
       "      <td>$4 M</td>\n",
       "      <td>Soccer</td>\n",
       "    </tr>\n",
       "  </tbody>\n",
       "</table>\n",
       "<p>100 rows × 5 columns</p>\n",
       "</div>"
      ],
      "text/plain": [
       "              Athlete 2014 Pay Salary/Winnings Endorsements       Sport\n",
       "0    Floyd Mayweather   $105 M          $105 M            0      Boxing\n",
       "1   Cristiano Ronaldo    $80 M           $52 M        $28 M      Soccer\n",
       "2        LeBron James  $72.3 M         $19.3 M        $53 M  Basketball\n",
       "3        Lionel Messi  $64.7 M         $41.7 M        $23 M      Soccer\n",
       "4         Kobe Bryant  $61.5 M         $30.5 M        $31 M  Basketball\n",
       "..                ...      ...             ...          ...         ...\n",
       "95      Terrell Suggs  $17.6 M         $17.4 M       $200 K    Football\n",
       "96   Brandon Marshall  $17.5 M         $16.8 M       $0.7 M    Football\n",
       "97       Jayson Werth  $17.5 M         $17.3 M       $200 K    Baseball\n",
       "98      Matt Holliday  $17.4 M         $17.2 M       $200 K    Baseball\n",
       "99        Luis Suarez  $17.3 M         $13.3 M         $4 M      Soccer\n",
       "\n",
       "[100 rows x 5 columns]"
      ]
     },
     "execution_count": 13,
     "metadata": {},
     "output_type": "execute_result"
    }
   ],
   "source": [
    "df_salary"
   ]
  },
  {
   "cell_type": "code",
   "execution_count": 14,
   "metadata": {},
   "outputs": [],
   "source": [
    "def clean_endorsements(value):\n",
    "    if isinstance(value,str):\n",
    "        value  =  value.replace('$','')\n",
    "        v1,v2 = value.split()\n",
    "        if v2 == \"M\":\n",
    "            v1  = float(v1)\n",
    "            v1 *= 1000000\n",
    "        elif v2 == \"K\":\n",
    "            v1 = float(v1)\n",
    "            v1 *= 1000\n",
    "        return v1\n",
    "    else:\n",
    "        return 0"
   ]
  },
  {
   "cell_type": "code",
   "execution_count": 15,
   "metadata": {},
   "outputs": [
    {
     "data": {
      "text/plain": [
       "0            0.0\n",
       "1     28000000.0\n",
       "2     53000000.0\n",
       "3     23000000.0\n",
       "4     31000000.0\n",
       "         ...    \n",
       "95      200000.0\n",
       "96      700000.0\n",
       "97      200000.0\n",
       "98      200000.0\n",
       "99     4000000.0\n",
       "Name: Endorsements, Length: 100, dtype: float64"
      ]
     },
     "execution_count": 15,
     "metadata": {},
     "output_type": "execute_result"
    }
   ],
   "source": [
    "df_salary.Endorsements.apply(clean_endorsements)"
   ]
  },
  {
   "cell_type": "code",
   "execution_count": 16,
   "metadata": {},
   "outputs": [],
   "source": [
    "df_salary.Endorsements = df_salary.Endorsements.apply(clean_endorsements)"
   ]
  },
  {
   "cell_type": "code",
   "execution_count": 17,
   "metadata": {},
   "outputs": [
    {
     "name": "stderr",
     "output_type": "stream",
     "text": [
      "Matplotlib is building the font cache; this may take a moment.\n"
     ]
    },
    {
     "data": {
      "text/plain": [
       "<AxesSubplot:>"
      ]
     },
     "execution_count": 17,
     "metadata": {},
     "output_type": "execute_result"
    },
    {
     "data": {
      "image/png": "[encoded data removed]",
      "text/plain": [
       "<Figure size 432x288 with 1 Axes>"
      ]
     },
     "metadata": {
      "needs_background": "light"
     },
     "output_type": "display_data"
    }
   ],
   "source": [
    "df_salary.Endorsements.hist()"
   ]
  }
 ],
 "metadata": {
  "interpreter": {
   "hash": "c6b8932168a7122d584e822f9e5fb9933ced79b07c2218f0ab06609e79752f58"
  },
  "kernelspec": {
   "display_name": "Python 3.9.7 ('venv')",
   "language": "python",
   "name": "python3"
  },
  "language_info": {
   "codemirror_mode": {
    "name": "ipython",
    "version": 3
   },
   "file_extension": ".py",
   "mimetype": "text/x-python",
   "name": "python",
   "nbconvert_exporter": "python",
   "pygments_lexer": "ipython3",
   "version": "3.9.5"
  },
  "orig_nbformat": 4
 },
 "nbformat": 4,
 "nbformat_minor": 2
}
