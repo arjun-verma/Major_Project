{
 "cells": [
  {
   "cell_type": "markdown",
   "metadata": {},
   "source": [
    "- import libs\n",
    "- load datasets \n",
    "- take Pay2014,Salary_Winnings,Endorsements\n",
    "- create bar,hist,scatter plot\n",
    "- compare them using scatter plot\n"
   ]
  },
  {
   "cell_type": "code",
   "execution_count": 1,
   "metadata": {},
   "outputs": [
    {
     "ename": "ModuleNotFoundError",
     "evalue": "No module named 'pandas'",
     "output_type": "error",
     "traceback": [
      "\u001b[1;31m---------------------------------------------------------------------------\u001b[0m",
      "\u001b[1;31mModuleNotFoundError\u001b[0m                       Traceback (most recent call last)",
      "\u001b[1;32me:\\6th Sem\\6th Sem\\Major Project\\Major_Project\\analysis\\univariate.ipynb Cell 2'\u001b[0m in \u001b[0;36m<cell line: 1>\u001b[1;34m()\u001b[0m\n\u001b[1;32m----> <a href='vscode-notebook-cell:/e%3A/6th%20Sem/6th%20Sem/Major%20Project/Major_Project/analysis/univariate.ipynb#ch0000001?line=0'>1</a>\u001b[0m \u001b[39mimport\u001b[39;00m \u001b[39mpandas\u001b[39;00m \u001b[39mas\u001b[39;00m \u001b[39mpd\u001b[39;00m\n\u001b[0;32m      <a href='vscode-notebook-cell:/e%3A/6th%20Sem/6th%20Sem/Major%20Project/Major_Project/analysis/univariate.ipynb#ch0000001?line=1'>2</a>\u001b[0m \u001b[39mimport\u001b[39;00m \u001b[39mnumpy\u001b[39;00m \u001b[39mas\u001b[39;00m \u001b[39mnp\u001b[39;00m\n\u001b[0;32m      <a href='vscode-notebook-cell:/e%3A/6th%20Sem/6th%20Sem/Major%20Project/Major_Project/analysis/univariate.ipynb#ch0000001?line=2'>3</a>\u001b[0m \u001b[39mimport\u001b[39;00m \u001b[39mplotly\u001b[39;00m\u001b[39m.\u001b[39;00m\u001b[39mexpress\u001b[39;00m \u001b[39mas\u001b[39;00m \u001b[39mpx\u001b[39;00m\n",
      "\u001b[1;31mModuleNotFoundError\u001b[0m: No module named 'pandas'"
     ]
    }
   ],
   "source": [
    "import pandas as pd\n",
    "import numpy as np\n",
    "import plotly.express as px\n",
    "import matplotlib.pyplot as plt\n"
   ]
  },
  {
   "cell_type": "code",
   "execution_count": null,
   "metadata": {},
   "outputs": [],
   "source": [
    "dfs = pd.read_csv('../datasets/Salary.csv')"
   ]
  },
  {
   "cell_type": "code",
   "execution_count": null,
   "metadata": {},
   "outputs": [],
   "source": [
    "dfs.drop(['Unnamed: 0'], axis = 1, inplace = True)"
   ]
  },
  {
   "cell_type": "code",
   "execution_count": null,
   "metadata": {},
   "outputs": [],
   "source": [
    "dfs.rename(columns={'Pay2014' : 'Payout'}, inplace = True)"
   ]
  },
  {
   "cell_type": "code",
   "execution_count": null,
   "metadata": {},
   "outputs": [],
   "source": [
    "dfs.info()"
   ]
  },
  {
   "cell_type": "code",
   "execution_count": null,
   "metadata": {},
   "outputs": [],
   "source": [
    "df = dfs.groupby(['Sport']).median()"
   ]
  },
  {
   "cell_type": "code",
   "execution_count": null,
   "metadata": {},
   "outputs": [],
   "source": [
    "df"
   ]
  },
  {
   "cell_type": "code",
   "execution_count": null,
   "metadata": {},
   "outputs": [],
   "source": [
    "dfs.head()"
   ]
  },
  {
   "cell_type": "code",
   "execution_count": null,
   "metadata": {},
   "outputs": [],
   "source": [
    "fig = px.histogram(dfs, y=\"Payout\", title=\"Payout\")\n",
    "fig.show()"
   ]
  },
  {
   "cell_type": "code",
   "execution_count": null,
   "metadata": {},
   "outputs": [],
   "source": [
    "fig = px.histogram(dfs, y=\"Salary_Winnings\", title=\"Salary_winnings\")\n",
    "fig.show()"
   ]
  },
  {
   "cell_type": "code",
   "execution_count": null,
   "metadata": {},
   "outputs": [],
   "source": [
    "fig = px.histogram(dfs, y=\"Endorsements\",title=\"Endosrements\")\n",
    "fig.show()"
   ]
  },
  {
   "cell_type": "code",
   "execution_count": null,
   "metadata": {},
   "outputs": [],
   "source": [
    "plt.figure(figsize=(10,5))\n",
    "fig = px.bar(df,x=df.index,y='Payout',color ='Payout',log_y=True,title=\"Payout median\")\n",
    "fig.show()\n"
   ]
  },
  {
   "cell_type": "code",
   "execution_count": null,
   "metadata": {},
   "outputs": [],
   "source": [
    "plt.figure(figsize=(10,5))\n",
    "fig = px.bar(df,x=df.index,y='Salary_Winnings',color ='Payout',log_y=True,title=\"Salary Winning median\")\n",
    "fig.show()\n"
   ]
  },
  {
   "cell_type": "code",
   "execution_count": null,
   "metadata": {},
   "outputs": [],
   "source": [
    "plt.figure(figsize=(10,5))\n",
    "fig = px.bar(df,x=df.index,y='Endorsements',color ='Payout',log_y=True,title=\"Endorsement median\")\n",
    "fig.show()\n"
   ]
  },
  {
   "cell_type": "code",
   "execution_count": null,
   "metadata": {},
   "outputs": [],
   "source": [
    "fig = px.scatter(dfs, x=\"Sport\", y=\"Payout\",title=\"Payout\",labels={\"Payout\" : \"Payout\"})\n",
    "fig.show()"
   ]
  },
  {
   "cell_type": "code",
   "execution_count": null,
   "metadata": {},
   "outputs": [],
   "source": [
    "fig = px.scatter(dfs, x=\"Sport\", y=\"Salary_Winnings\",title=\"salary winning\")\n",
    "fig.show()"
   ]
  },
  {
   "cell_type": "code",
   "execution_count": null,
   "metadata": {},
   "outputs": [],
   "source": [
    "fig = px.scatter(dfs, x=\"Sport\", y=\"Endorsements\",title=\"Endorsements\")\n",
    "fig.show()"
   ]
  },
  {
   "cell_type": "code",
   "execution_count": null,
   "metadata": {},
   "outputs": [],
   "source": [
    "fig = px.scatter(dfs, x=\"Payout\", y=\"Salary_Winnings\",title=\"Payout Vs Salary winning\",labels={\"Payout\" : \"Payout\"})\n",
    "fig.show()"
   ]
  },
  {
   "cell_type": "code",
   "execution_count": null,
   "metadata": {},
   "outputs": [],
   "source": [
    "fig = px.scatter(dfs, x=\"Payout\", y=\"Endorsements\",title=\"Payout Vs Endorsements\",labels={\"Payout\" : \"Payout\"})\n",
    "fig.show()"
   ]
  },
  {
   "cell_type": "code",
   "execution_count": null,
   "metadata": {},
   "outputs": [],
   "source": [
    "fig = px.scatter(dfs, x=\"Salary_Winnings\", y=\"Endorsements\",title=\"Salary winnings Vs Endorsements\")\n",
    "fig.show()"
   ]
  },
  {
   "cell_type": "code",
   "execution_count": null,
   "metadata": {},
   "outputs": [],
   "source": [
    "dft = pd.read_csv('../datasets/Teams.csv')\n",
    "dft.drop(['Unnamed: 0'], axis = 1, inplace = True)\n",
    "dft.fillna(0)\n",
    "dft.info()"
   ]
  },
  {
   "cell_type": "code",
   "execution_count": null,
   "metadata": {},
   "outputs": [],
   "source": [
    "dft.columns = ['Rank','Last_Year_Rank','Avg_Annual_pay_per_player','Percent_Change_From Last_Year','Total_Payroll','Total_Payroll_Rank','Avg_player_5_year_earnings','Percent_change_over_last_5_years','Team', 'League']"
   ]
  },
  {
   "cell_type": "code",
   "execution_count": null,
   "metadata": {},
   "outputs": [],
   "source": [
    "dft.columns"
   ]
  },
  {
   "cell_type": "code",
   "execution_count": null,
   "metadata": {},
   "outputs": [],
   "source": [
    "dft[\"Team\"].value_counts()"
   ]
  },
  {
   "cell_type": "code",
   "execution_count": null,
   "metadata": {},
   "outputs": [],
   "source": [
    "dft[\"League\"].value_counts()"
   ]
  },
  {
   "cell_type": "code",
   "execution_count": null,
   "metadata": {},
   "outputs": [],
   "source": [
    "dft1 = dft[['League', 'Avg_Annual_pay_per_player', 'Percent_Change_From Last_Year','Total_Payroll', 'Avg_player_5_year_earnings', 'Percent_change_over_last_5_years']]\n",
    "dft1"
   ]
  },
  {
   "cell_type": "code",
   "execution_count": null,
   "metadata": {},
   "outputs": [],
   "source": [
    "dft2 = dft1.groupby(['League']).median()\n",
    "dft2"
   ]
  },
  {
   "cell_type": "code",
   "execution_count": null,
   "metadata": {},
   "outputs": [],
   "source": [
    "plt.figure(figsize=(10, 5))\n",
    "fig = px.bar(dft2, x=dft2.index, y='Avg_Annual_pay_per_player',\n",
    "             color='Avg_Annual_pay_per_player', log_y=True, title=\"Average Annual pay per player\")\n",
    "fig.show()\n"
   ]
  },
  {
   "cell_type": "code",
   "execution_count": null,
   "metadata": {},
   "outputs": [],
   "source": [
    "plt.figure(figsize=(10, 5))\n",
    "fig = px.bar(dft2, x=dft2.index, y='Percent_Change_From Last_Year',\n",
    "             color='Percent_Change_From Last_Year', log_y=True, title=\"Percent change from last year's survey\")\n",
    "fig.show()\n"
   ]
  },
  {
   "cell_type": "code",
   "execution_count": null,
   "metadata": {},
   "outputs": [],
   "source": [
    "plt.figure(figsize=(10, 5))\n",
    "fig = px.bar(dft2, x=dft2.index, y='Total_Payroll',\n",
    "             color='Total_Payroll', log_y=True, title=\"Total Payroll\")\n",
    "fig.show()\n"
   ]
  },
  {
   "cell_type": "code",
   "execution_count": null,
   "metadata": {},
   "outputs": [],
   "source": [
    "plt.figure(figsize=(10, 5))\n",
    "fig = px.bar(dft2, x=dft2.index, y='Avg_player_5_year_earnings',\n",
    "             color='Avg_player_5_year_earnings', log_y=True, title=\"Average player last 5 year Earning\")\n",
    "fig.show()\n"
   ]
  },
  {
   "cell_type": "code",
   "execution_count": null,
   "metadata": {},
   "outputs": [],
   "source": [
    "plt.figure(figsize=(10, 5))\n",
    "fig = px.bar(dft2, x=dft2.index, y='Percent_change_over_last_5_years',\n",
    "             color='Percent_change_over_last_5_years', log_y=True, title=\"Percent change in last 5 years\")\n",
    "fig.show()\n"
   ]
  },
  {
   "cell_type": "code",
   "execution_count": null,
   "metadata": {},
   "outputs": [],
   "source": [
    "plt.rcParams[\"axes.formatter.limits\"] = (-5, 12)"
   ]
  },
  {
   "cell_type": "code",
   "execution_count": null,
   "metadata": {},
   "outputs": [],
   "source": [
    "dft.boxplot(column=['Avg_Annual_pay_per_player'])\n"
   ]
  },
  {
   "cell_type": "code",
   "execution_count": null,
   "metadata": {},
   "outputs": [],
   "source": [
    "dft.boxplot(column=['Percent_Change_From Last_Year'])"
   ]
  },
  {
   "cell_type": "code",
   "execution_count": null,
   "metadata": {},
   "outputs": [],
   "source": [
    "dft.boxplot(column=['Total_Payroll'])"
   ]
  },
  {
   "cell_type": "code",
   "execution_count": null,
   "metadata": {},
   "outputs": [],
   "source": [
    "dft.boxplot(column=['Avg_player_5_year_earnings'])"
   ]
  },
  {
   "cell_type": "code",
   "execution_count": null,
   "metadata": {},
   "outputs": [],
   "source": [
    "dft.boxplot(column=['Percent_change_over_last_5_years'])"
   ]
  },
  {
   "cell_type": "code",
   "execution_count": null,
   "metadata": {},
   "outputs": [],
   "source": [
    "px.scatter(dft,x='Avg_Annual_pay_per_player',y='Avg_player_5_year_earnings',color='Avg_player_5_year_earnings',title = ' vs Average player 5 year earning')"
   ]
  },
  {
   "cell_type": "code",
   "execution_count": null,
   "metadata": {},
   "outputs": [],
   "source": [
    "dft.boxplot(column=['Avg_Annual_pay_per_player','Avg_player_5_year_earnings'])"
   ]
  },
  {
   "cell_type": "code",
   "execution_count": null,
   "metadata": {},
   "outputs": [],
   "source": [
    "px.scatter(dft,x='Avg_player_5_year_earnings',y='Total_Payroll',color='Total_Payroll',title = 'Average player 5 year earning vs Total Payroll')"
   ]
  },
  {
   "cell_type": "code",
   "execution_count": null,
   "metadata": {},
   "outputs": [],
   "source": [
    "dft.boxplot(column=['Avg_player_5_year_earnings','Total_Payroll'])"
   ]
  },
  {
   "cell_type": "code",
   "execution_count": null,
   "metadata": {},
   "outputs": [],
   "source": [
    "px.scatter(dft,x='Percent_Change_From Last_Year',y='Percent_change_over_last_5_years',color='Percent_change_over_last_5_years',title = 'Percent change in last year vs Percent change in last 5 year')"
   ]
  },
  {
   "cell_type": "code",
   "execution_count": null,
   "metadata": {},
   "outputs": [],
   "source": [
    "dft.boxplot(column=['Percent_Change_From Last_Year','Percent_change_over_last_5_years'])"
   ]
  },
  {
   "cell_type": "code",
   "execution_count": null,
   "metadata": {},
   "outputs": [],
   "source": [
    "dfs.info()"
   ]
  },
  {
   "cell_type": "code",
   "execution_count": null,
   "metadata": {},
   "outputs": [],
   "source": [
    "px.scatter_3d(dft,x='Avg_Annual_pay_per_player',y='Avg_player_5_year_earnings',z='Total_Payroll',color='Avg_Annual_pay_per_player',title = 'Average Annual vs Average 5 Year Annual vs Total Pay')"
   ]
  },
  {
   "cell_type": "code",
   "execution_count": null,
   "metadata": {},
   "outputs": [],
   "source": [
    "px.scatter_3d(dfs,x='Payout',y='Salary_Winnings',z='Endorsements',color='Payout',title='Payout vs Sallary Winnings vs Endorsement')"
   ]
  }
 ],
 "metadata": {
  "interpreter": {
   "hash": "89f736ab0ea6305f967df8215705f26a2982903db2a239df862a782a409404c2"
  },
  "kernelspec": {
   "display_name": "Python 3.9.11 ('venv')",
   "language": "python",
   "name": "python3"
  },
  "language_info": {
   "codemirror_mode": {
    "name": "ipython",
    "version": 3
   },
   "file_extension": ".py",
   "mimetype": "text/x-python",
   "name": "python",
   "nbconvert_exporter": "python",
   "pygments_lexer": "ipython3",
   "version": "3.9.12"
  },
  "orig_nbformat": 4
 },
 "nbformat": 4,
 "nbformat_minor": 2
}
